{
 "cells": [
  {
   "cell_type": "markdown",
   "id": "000089cd",
   "metadata": {},
   "source": [
    "# Problem Discription :"
   ]
  },
  {
   "cell_type": "markdown",
   "id": "a08c0b72",
   "metadata": {},
   "source": [
    "Customer churn is when a company’s customers stop doing business with that company. Businesses are very keen on measuring churn because keeping an existing customer is far less expensive than acquiring a new customer. New business involves working leads through a sales funnel, using marketing and sales budgets to gain additional customers. Existing customers will often have a higher volume of service consumption and can generate additional customer referrals.\n",
    "\n",
    "Customer retention can be achieved with good customer service and products. But the most effective way for a company to prevent attrition of customers is to truly know them. The vast volumes of data collected about customers can be used to build churn prediction models. Knowing who is most likely to defect means that a company can prioritise focused marketing efforts on that subset of their customer base.\n",
    "\n",
    "Preventing customer churn is critically important to the telecommunications sector, as the barriers to entry for switching services are so low. "
   ]
  },
  {
   "cell_type": "markdown",
   "id": "d01e2bd6",
   "metadata": {},
   "source": [
    "# Data Analysis"
   ]
  },
  {
   "cell_type": "code",
   "execution_count": 84,
   "id": "99c8b5d6",
   "metadata": {},
   "outputs": [],
   "source": [
    "\n",
    "#importing pandas and numpy libraries\n",
    "import pandas as pd\n",
    "import numpy as np"
   ]
  },
  {
   "cell_type": "code",
   "execution_count": 85,
   "id": "53d2f99a",
   "metadata": {},
   "outputs": [],
   "source": [
    "#Reading the DataSet to work on the Data Project and adding in the dataframe\n",
    "dfchurn= pd.read_csv(r'churn.csv')"
   ]
  },
  {
   "cell_type": "code",
   "execution_count": 86,
   "id": "b18447c8",
   "metadata": {},
   "outputs": [
    {
     "data": {
      "text/html": [
       "<div>\n",
       "<style scoped>\n",
       "    .dataframe tbody tr th:only-of-type {\n",
       "        vertical-align: middle;\n",
       "    }\n",
       "\n",
       "    .dataframe tbody tr th {\n",
       "        vertical-align: top;\n",
       "    }\n",
       "\n",
       "    .dataframe thead th {\n",
       "        text-align: right;\n",
       "    }\n",
       "</style>\n",
       "<table border=\"1\" class=\"dataframe\">\n",
       "  <thead>\n",
       "    <tr style=\"text-align: right;\">\n",
       "      <th></th>\n",
       "      <th>customerID</th>\n",
       "      <th>gender</th>\n",
       "      <th>SeniorCitizen</th>\n",
       "      <th>Partner</th>\n",
       "      <th>Dependents</th>\n",
       "      <th>tenure</th>\n",
       "      <th>PhoneService</th>\n",
       "      <th>MultipleLines</th>\n",
       "      <th>InternetService</th>\n",
       "      <th>OnlineSecurity</th>\n",
       "      <th>...</th>\n",
       "      <th>DeviceProtection</th>\n",
       "      <th>TechSupport</th>\n",
       "      <th>StreamingTV</th>\n",
       "      <th>StreamingMovies</th>\n",
       "      <th>Contract</th>\n",
       "      <th>PaperlessBilling</th>\n",
       "      <th>PaymentMethod</th>\n",
       "      <th>MonthlyCharges</th>\n",
       "      <th>TotalCharges</th>\n",
       "      <th>Churn</th>\n",
       "    </tr>\n",
       "  </thead>\n",
       "  <tbody>\n",
       "    <tr>\n",
       "      <th>0</th>\n",
       "      <td>7590-VHVEG</td>\n",
       "      <td>Female</td>\n",
       "      <td>0</td>\n",
       "      <td>Yes</td>\n",
       "      <td>No</td>\n",
       "      <td>1</td>\n",
       "      <td>No</td>\n",
       "      <td>No phone service</td>\n",
       "      <td>DSL</td>\n",
       "      <td>No</td>\n",
       "      <td>...</td>\n",
       "      <td>No</td>\n",
       "      <td>No</td>\n",
       "      <td>No</td>\n",
       "      <td>No</td>\n",
       "      <td>Month-to-month</td>\n",
       "      <td>Yes</td>\n",
       "      <td>Electronic check</td>\n",
       "      <td>29.85</td>\n",
       "      <td>29.85</td>\n",
       "      <td>No</td>\n",
       "    </tr>\n",
       "    <tr>\n",
       "      <th>1</th>\n",
       "      <td>5575-GNVDE</td>\n",
       "      <td>Male</td>\n",
       "      <td>0</td>\n",
       "      <td>No</td>\n",
       "      <td>No</td>\n",
       "      <td>34</td>\n",
       "      <td>Yes</td>\n",
       "      <td>No</td>\n",
       "      <td>DSL</td>\n",
       "      <td>Yes</td>\n",
       "      <td>...</td>\n",
       "      <td>Yes</td>\n",
       "      <td>No</td>\n",
       "      <td>No</td>\n",
       "      <td>No</td>\n",
       "      <td>One year</td>\n",
       "      <td>No</td>\n",
       "      <td>Mailed check</td>\n",
       "      <td>56.95</td>\n",
       "      <td>1889.5</td>\n",
       "      <td>No</td>\n",
       "    </tr>\n",
       "    <tr>\n",
       "      <th>2</th>\n",
       "      <td>3668-QPYBK</td>\n",
       "      <td>Male</td>\n",
       "      <td>0</td>\n",
       "      <td>No</td>\n",
       "      <td>No</td>\n",
       "      <td>2</td>\n",
       "      <td>Yes</td>\n",
       "      <td>No</td>\n",
       "      <td>DSL</td>\n",
       "      <td>Yes</td>\n",
       "      <td>...</td>\n",
       "      <td>No</td>\n",
       "      <td>No</td>\n",
       "      <td>No</td>\n",
       "      <td>No</td>\n",
       "      <td>Month-to-month</td>\n",
       "      <td>Yes</td>\n",
       "      <td>Mailed check</td>\n",
       "      <td>53.85</td>\n",
       "      <td>108.15</td>\n",
       "      <td>Yes</td>\n",
       "    </tr>\n",
       "    <tr>\n",
       "      <th>3</th>\n",
       "      <td>7795-CFOCW</td>\n",
       "      <td>Male</td>\n",
       "      <td>0</td>\n",
       "      <td>No</td>\n",
       "      <td>No</td>\n",
       "      <td>45</td>\n",
       "      <td>No</td>\n",
       "      <td>No phone service</td>\n",
       "      <td>DSL</td>\n",
       "      <td>Yes</td>\n",
       "      <td>...</td>\n",
       "      <td>Yes</td>\n",
       "      <td>Yes</td>\n",
       "      <td>No</td>\n",
       "      <td>No</td>\n",
       "      <td>One year</td>\n",
       "      <td>No</td>\n",
       "      <td>Bank transfer (automatic)</td>\n",
       "      <td>42.30</td>\n",
       "      <td>1840.75</td>\n",
       "      <td>No</td>\n",
       "    </tr>\n",
       "    <tr>\n",
       "      <th>4</th>\n",
       "      <td>9237-HQITU</td>\n",
       "      <td>Female</td>\n",
       "      <td>0</td>\n",
       "      <td>No</td>\n",
       "      <td>No</td>\n",
       "      <td>2</td>\n",
       "      <td>Yes</td>\n",
       "      <td>No</td>\n",
       "      <td>Fiber optic</td>\n",
       "      <td>No</td>\n",
       "      <td>...</td>\n",
       "      <td>No</td>\n",
       "      <td>No</td>\n",
       "      <td>No</td>\n",
       "      <td>No</td>\n",
       "      <td>Month-to-month</td>\n",
       "      <td>Yes</td>\n",
       "      <td>Electronic check</td>\n",
       "      <td>70.70</td>\n",
       "      <td>151.65</td>\n",
       "      <td>Yes</td>\n",
       "    </tr>\n",
       "    <tr>\n",
       "      <th>...</th>\n",
       "      <td>...</td>\n",
       "      <td>...</td>\n",
       "      <td>...</td>\n",
       "      <td>...</td>\n",
       "      <td>...</td>\n",
       "      <td>...</td>\n",
       "      <td>...</td>\n",
       "      <td>...</td>\n",
       "      <td>...</td>\n",
       "      <td>...</td>\n",
       "      <td>...</td>\n",
       "      <td>...</td>\n",
       "      <td>...</td>\n",
       "      <td>...</td>\n",
       "      <td>...</td>\n",
       "      <td>...</td>\n",
       "      <td>...</td>\n",
       "      <td>...</td>\n",
       "      <td>...</td>\n",
       "      <td>...</td>\n",
       "      <td>...</td>\n",
       "    </tr>\n",
       "    <tr>\n",
       "      <th>7038</th>\n",
       "      <td>6840-RESVB</td>\n",
       "      <td>Male</td>\n",
       "      <td>0</td>\n",
       "      <td>Yes</td>\n",
       "      <td>Yes</td>\n",
       "      <td>24</td>\n",
       "      <td>Yes</td>\n",
       "      <td>Yes</td>\n",
       "      <td>DSL</td>\n",
       "      <td>Yes</td>\n",
       "      <td>...</td>\n",
       "      <td>Yes</td>\n",
       "      <td>Yes</td>\n",
       "      <td>Yes</td>\n",
       "      <td>Yes</td>\n",
       "      <td>One year</td>\n",
       "      <td>Yes</td>\n",
       "      <td>Mailed check</td>\n",
       "      <td>84.80</td>\n",
       "      <td>1990.5</td>\n",
       "      <td>No</td>\n",
       "    </tr>\n",
       "    <tr>\n",
       "      <th>7039</th>\n",
       "      <td>2234-XADUH</td>\n",
       "      <td>Female</td>\n",
       "      <td>0</td>\n",
       "      <td>Yes</td>\n",
       "      <td>Yes</td>\n",
       "      <td>72</td>\n",
       "      <td>Yes</td>\n",
       "      <td>Yes</td>\n",
       "      <td>Fiber optic</td>\n",
       "      <td>No</td>\n",
       "      <td>...</td>\n",
       "      <td>Yes</td>\n",
       "      <td>No</td>\n",
       "      <td>Yes</td>\n",
       "      <td>Yes</td>\n",
       "      <td>One year</td>\n",
       "      <td>Yes</td>\n",
       "      <td>Credit card (automatic)</td>\n",
       "      <td>103.20</td>\n",
       "      <td>7362.9</td>\n",
       "      <td>No</td>\n",
       "    </tr>\n",
       "    <tr>\n",
       "      <th>7040</th>\n",
       "      <td>4801-JZAZL</td>\n",
       "      <td>Female</td>\n",
       "      <td>0</td>\n",
       "      <td>Yes</td>\n",
       "      <td>Yes</td>\n",
       "      <td>11</td>\n",
       "      <td>No</td>\n",
       "      <td>No phone service</td>\n",
       "      <td>DSL</td>\n",
       "      <td>Yes</td>\n",
       "      <td>...</td>\n",
       "      <td>No</td>\n",
       "      <td>No</td>\n",
       "      <td>No</td>\n",
       "      <td>No</td>\n",
       "      <td>Month-to-month</td>\n",
       "      <td>Yes</td>\n",
       "      <td>Electronic check</td>\n",
       "      <td>29.60</td>\n",
       "      <td>346.45</td>\n",
       "      <td>No</td>\n",
       "    </tr>\n",
       "    <tr>\n",
       "      <th>7041</th>\n",
       "      <td>8361-LTMKD</td>\n",
       "      <td>Male</td>\n",
       "      <td>1</td>\n",
       "      <td>Yes</td>\n",
       "      <td>No</td>\n",
       "      <td>4</td>\n",
       "      <td>Yes</td>\n",
       "      <td>Yes</td>\n",
       "      <td>Fiber optic</td>\n",
       "      <td>No</td>\n",
       "      <td>...</td>\n",
       "      <td>No</td>\n",
       "      <td>No</td>\n",
       "      <td>No</td>\n",
       "      <td>No</td>\n",
       "      <td>Month-to-month</td>\n",
       "      <td>Yes</td>\n",
       "      <td>Mailed check</td>\n",
       "      <td>74.40</td>\n",
       "      <td>306.6</td>\n",
       "      <td>Yes</td>\n",
       "    </tr>\n",
       "    <tr>\n",
       "      <th>7042</th>\n",
       "      <td>3186-AJIEK</td>\n",
       "      <td>Male</td>\n",
       "      <td>0</td>\n",
       "      <td>No</td>\n",
       "      <td>No</td>\n",
       "      <td>66</td>\n",
       "      <td>Yes</td>\n",
       "      <td>No</td>\n",
       "      <td>Fiber optic</td>\n",
       "      <td>Yes</td>\n",
       "      <td>...</td>\n",
       "      <td>Yes</td>\n",
       "      <td>Yes</td>\n",
       "      <td>Yes</td>\n",
       "      <td>Yes</td>\n",
       "      <td>Two year</td>\n",
       "      <td>Yes</td>\n",
       "      <td>Bank transfer (automatic)</td>\n",
       "      <td>105.65</td>\n",
       "      <td>6844.5</td>\n",
       "      <td>No</td>\n",
       "    </tr>\n",
       "  </tbody>\n",
       "</table>\n",
       "<p>7043 rows × 21 columns</p>\n",
       "</div>"
      ],
      "text/plain": [
       "      customerID  gender  SeniorCitizen Partner Dependents  tenure  \\\n",
       "0     7590-VHVEG  Female              0     Yes         No       1   \n",
       "1     5575-GNVDE    Male              0      No         No      34   \n",
       "2     3668-QPYBK    Male              0      No         No       2   \n",
       "3     7795-CFOCW    Male              0      No         No      45   \n",
       "4     9237-HQITU  Female              0      No         No       2   \n",
       "...          ...     ...            ...     ...        ...     ...   \n",
       "7038  6840-RESVB    Male              0     Yes        Yes      24   \n",
       "7039  2234-XADUH  Female              0     Yes        Yes      72   \n",
       "7040  4801-JZAZL  Female              0     Yes        Yes      11   \n",
       "7041  8361-LTMKD    Male              1     Yes         No       4   \n",
       "7042  3186-AJIEK    Male              0      No         No      66   \n",
       "\n",
       "     PhoneService     MultipleLines InternetService OnlineSecurity  ...  \\\n",
       "0              No  No phone service             DSL             No  ...   \n",
       "1             Yes                No             DSL            Yes  ...   \n",
       "2             Yes                No             DSL            Yes  ...   \n",
       "3              No  No phone service             DSL            Yes  ...   \n",
       "4             Yes                No     Fiber optic             No  ...   \n",
       "...           ...               ...             ...            ...  ...   \n",
       "7038          Yes               Yes             DSL            Yes  ...   \n",
       "7039          Yes               Yes     Fiber optic             No  ...   \n",
       "7040           No  No phone service             DSL            Yes  ...   \n",
       "7041          Yes               Yes     Fiber optic             No  ...   \n",
       "7042          Yes                No     Fiber optic            Yes  ...   \n",
       "\n",
       "     DeviceProtection TechSupport StreamingTV StreamingMovies        Contract  \\\n",
       "0                  No          No          No              No  Month-to-month   \n",
       "1                 Yes          No          No              No        One year   \n",
       "2                  No          No          No              No  Month-to-month   \n",
       "3                 Yes         Yes          No              No        One year   \n",
       "4                  No          No          No              No  Month-to-month   \n",
       "...               ...         ...         ...             ...             ...   \n",
       "7038              Yes         Yes         Yes             Yes        One year   \n",
       "7039              Yes          No         Yes             Yes        One year   \n",
       "7040               No          No          No              No  Month-to-month   \n",
       "7041               No          No          No              No  Month-to-month   \n",
       "7042              Yes         Yes         Yes             Yes        Two year   \n",
       "\n",
       "     PaperlessBilling              PaymentMethod MonthlyCharges  TotalCharges  \\\n",
       "0                 Yes           Electronic check          29.85         29.85   \n",
       "1                  No               Mailed check          56.95        1889.5   \n",
       "2                 Yes               Mailed check          53.85        108.15   \n",
       "3                  No  Bank transfer (automatic)          42.30       1840.75   \n",
       "4                 Yes           Electronic check          70.70        151.65   \n",
       "...               ...                        ...            ...           ...   \n",
       "7038              Yes               Mailed check          84.80        1990.5   \n",
       "7039              Yes    Credit card (automatic)         103.20        7362.9   \n",
       "7040              Yes           Electronic check          29.60        346.45   \n",
       "7041              Yes               Mailed check          74.40         306.6   \n",
       "7042              Yes  Bank transfer (automatic)         105.65        6844.5   \n",
       "\n",
       "     Churn  \n",
       "0       No  \n",
       "1       No  \n",
       "2      Yes  \n",
       "3       No  \n",
       "4      Yes  \n",
       "...    ...  \n",
       "7038    No  \n",
       "7039    No  \n",
       "7040    No  \n",
       "7041   Yes  \n",
       "7042    No  \n",
       "\n",
       "[7043 rows x 21 columns]"
      ]
     },
     "execution_count": 86,
     "metadata": {},
     "output_type": "execute_result"
    }
   ],
   "source": [
    "dfchurn"
   ]
  },
  {
   "cell_type": "code",
   "execution_count": 87,
   "id": "758f991f",
   "metadata": {},
   "outputs": [
    {
     "data": {
      "text/plain": [
       "Index(['customerID', 'gender', 'SeniorCitizen', 'Partner', 'Dependents',\n",
       "       'tenure', 'PhoneService', 'MultipleLines', 'InternetService',\n",
       "       'OnlineSecurity', 'OnlineBackup', 'DeviceProtection', 'TechSupport',\n",
       "       'StreamingTV', 'StreamingMovies', 'Contract', 'PaperlessBilling',\n",
       "       'PaymentMethod', 'MonthlyCharges', 'TotalCharges', 'Churn'],\n",
       "      dtype='object')"
      ]
     },
     "execution_count": 87,
     "metadata": {},
     "output_type": "execute_result"
    }
   ],
   "source": [
    "# reading the number of columns from the data set baseball.\n",
    "dfchurn.columns"
   ]
  },
  {
   "cell_type": "code",
   "execution_count": 88,
   "id": "9f925b76",
   "metadata": {},
   "outputs": [
    {
     "data": {
      "text/plain": [
       "(7043, 21)"
      ]
     },
     "execution_count": 88,
     "metadata": {},
     "output_type": "execute_result"
    }
   ],
   "source": [
    "#Check data shape (num of Rows & Columns)\n",
    "dfchurn.shape"
   ]
  },
  {
   "cell_type": "markdown",
   "id": "fcc7c676",
   "metadata": {},
   "source": [
    "There are 7043 number or rows and 21 columns "
   ]
  },
  {
   "cell_type": "code",
   "execution_count": 89,
   "id": "cad89934",
   "metadata": {
    "scrolled": true
   },
   "outputs": [
    {
     "data": {
      "text/plain": [
       "customerID          0\n",
       "gender              0\n",
       "SeniorCitizen       0\n",
       "Partner             0\n",
       "Dependents          0\n",
       "tenure              0\n",
       "PhoneService        0\n",
       "MultipleLines       0\n",
       "InternetService     0\n",
       "OnlineSecurity      0\n",
       "OnlineBackup        0\n",
       "DeviceProtection    0\n",
       "TechSupport         0\n",
       "StreamingTV         0\n",
       "StreamingMovies     0\n",
       "Contract            0\n",
       "PaperlessBilling    0\n",
       "PaymentMethod       0\n",
       "MonthlyCharges      0\n",
       "TotalCharges        0\n",
       "Churn               0\n",
       "dtype: int64"
      ]
     },
     "execution_count": 89,
     "metadata": {},
     "output_type": "execute_result"
    }
   ],
   "source": [
    "# preprocessing the Dataset by dealing with the missing values in the Dataset\n",
    "dfchurn.isnull().sum()"
   ]
  },
  {
   "cell_type": "code",
   "execution_count": 90,
   "id": "47fe9068",
   "metadata": {},
   "outputs": [
    {
     "data": {
      "text/plain": [
       "customerID           object\n",
       "gender               object\n",
       "SeniorCitizen         int64\n",
       "Partner              object\n",
       "Dependents           object\n",
       "tenure                int64\n",
       "PhoneService         object\n",
       "MultipleLines        object\n",
       "InternetService      object\n",
       "OnlineSecurity       object\n",
       "OnlineBackup         object\n",
       "DeviceProtection     object\n",
       "TechSupport          object\n",
       "StreamingTV          object\n",
       "StreamingMovies      object\n",
       "Contract             object\n",
       "PaperlessBilling     object\n",
       "PaymentMethod        object\n",
       "MonthlyCharges      float64\n",
       "TotalCharges         object\n",
       "Churn                object\n",
       "dtype: object"
      ]
     },
     "execution_count": 90,
     "metadata": {},
     "output_type": "execute_result"
    }
   ],
   "source": [
    "# checking the outliers in the dataset\n",
    "dfchurn.dtypes"
   ]
  },
  {
   "cell_type": "markdown",
   "id": "7bebf0ed",
   "metadata": {},
   "source": [
    "There are no Null values present in our data set so we can proceed further analysis"
   ]
  },
  {
   "cell_type": "code",
   "execution_count": 91,
   "id": "399519d9",
   "metadata": {},
   "outputs": [
    {
     "data": {
      "text/plain": [
       "<AxesSubplot:ylabel='SeniorCitizen'>"
      ]
     },
     "execution_count": 91,
     "metadata": {},
     "output_type": "execute_result"
    },
    {
     "data": {
      "image/png": "[encoded data removed]",
      "text/plain": [
       "<Figure size 432x288 with 1 Axes>"
      ]
     },
     "metadata": {
      "needs_background": "light"
     },
     "output_type": "display_data"
    }
   ],
   "source": [
    "#Visualization using boxplot to check the outliers\n",
    "import numpy as np\n",
    "import matplotlib.pyplot as plt\n",
    "import seaborn as sns\n",
    "\n",
    "# ignoring warnings\n",
    "import warnings\n",
    "warnings.filterwarnings('ignore')\n",
    "\n",
    "sns.boxplot(y='SeniorCitizen',data=dfchurn)\n"
   ]
  },
  {
   "cell_type": "markdown",
   "id": "446f9ced",
   "metadata": {},
   "source": [
    "# Removal of Outliers"
   ]
  },
  {
   "cell_type": "code",
   "execution_count": null,
   "id": "d8ccadbe",
   "metadata": {},
   "outputs": [],
   "source": []
  },
  {
   "cell_type": "code",
   "execution_count": 92,
   "id": "958d0a72",
   "metadata": {},
   "outputs": [
    {
     "data": {
      "text/plain": [
       "<AxesSubplot:ylabel='tenure'>"
      ]
     },
     "execution_count": 92,
     "metadata": {},
     "output_type": "execute_result"
    },
    {
     "data": {
      "image/png": "[encoded data removed]",
      "text/plain": [
       "<Figure size 432x288 with 1 Axes>"
      ]
     },
     "metadata": {
      "needs_background": "light"
     },
     "output_type": "display_data"
    }
   ],
   "source": [
    "sns.boxplot(y='tenure',data=dfchurn)"
   ]
  },
  {
   "cell_type": "code",
   "execution_count": 93,
   "id": "0f748a9e",
   "metadata": {},
   "outputs": [
    {
     "data": {
      "text/plain": [
       "<AxesSubplot:ylabel='MonthlyCharges'>"
      ]
     },
     "execution_count": 93,
     "metadata": {},
     "output_type": "execute_result"
    },
    {
     "data": {
      "image/png": "[encoded data removed]",
      "text/plain": [
       "<Figure size 432x288 with 1 Axes>"
      ]
     },
     "metadata": {
      "needs_background": "light"
     },
     "output_type": "display_data"
    }
   ],
   "source": [
    "sns.boxplot(y='MonthlyCharges',data=dfchurn)"
   ]
  },
  {
   "cell_type": "markdown",
   "id": "6925405a",
   "metadata": {},
   "source": [
    "Observation - There are no outliers present in the dataset"
   ]
  },
  {
   "cell_type": "markdown",
   "id": "3df5f1ee",
   "metadata": {},
   "source": [
    "# Removal of Skewness"
   ]
  },
  {
   "cell_type": "code",
   "execution_count": 94,
   "id": "2804dc95",
   "metadata": {},
   "outputs": [
    {
     "data": {
      "text/plain": [
       "<bound method NDFrame._add_numeric_operations.<locals>.skew of       customerID  gender  SeniorCitizen Partner Dependents  tenure  \\\n",
       "0     7590-VHVEG  Female              0     Yes         No       1   \n",
       "1     5575-GNVDE    Male              0      No         No      34   \n",
       "2     3668-QPYBK    Male              0      No         No       2   \n",
       "3     7795-CFOCW    Male              0      No         No      45   \n",
       "4     9237-HQITU  Female              0      No         No       2   \n",
       "...          ...     ...            ...     ...        ...     ...   \n",
       "7038  6840-RESVB    Male              0     Yes        Yes      24   \n",
       "7039  2234-XADUH  Female              0     Yes        Yes      72   \n",
       "7040  4801-JZAZL  Female              0     Yes        Yes      11   \n",
       "7041  8361-LTMKD    Male              1     Yes         No       4   \n",
       "7042  3186-AJIEK    Male              0      No         No      66   \n",
       "\n",
       "     PhoneService     MultipleLines InternetService OnlineSecurity  ...  \\\n",
       "0              No  No phone service             DSL             No  ...   \n",
       "1             Yes                No             DSL            Yes  ...   \n",
       "2             Yes                No             DSL            Yes  ...   \n",
       "3              No  No phone service             DSL            Yes  ...   \n",
       "4             Yes                No     Fiber optic             No  ...   \n",
       "...           ...               ...             ...            ...  ...   \n",
       "7038          Yes               Yes             DSL            Yes  ...   \n",
       "7039          Yes               Yes     Fiber optic             No  ...   \n",
       "7040           No  No phone service             DSL            Yes  ...   \n",
       "7041          Yes               Yes     Fiber optic             No  ...   \n",
       "7042          Yes                No     Fiber optic            Yes  ...   \n",
       "\n",
       "     DeviceProtection TechSupport StreamingTV StreamingMovies        Contract  \\\n",
       "0                  No          No          No              No  Month-to-month   \n",
       "1                 Yes          No          No              No        One year   \n",
       "2                  No          No          No              No  Month-to-month   \n",
       "3                 Yes         Yes          No              No        One year   \n",
       "4                  No          No          No              No  Month-to-month   \n",
       "...               ...         ...         ...             ...             ...   \n",
       "7038              Yes         Yes         Yes             Yes        One year   \n",
       "7039              Yes          No         Yes             Yes        One year   \n",
       "7040               No          No          No              No  Month-to-month   \n",
       "7041               No          No          No              No  Month-to-month   \n",
       "7042              Yes         Yes         Yes             Yes        Two year   \n",
       "\n",
       "     PaperlessBilling              PaymentMethod MonthlyCharges  TotalCharges  \\\n",
       "0                 Yes           Electronic check          29.85         29.85   \n",
       "1                  No               Mailed check          56.95        1889.5   \n",
       "2                 Yes               Mailed check          53.85        108.15   \n",
       "3                  No  Bank transfer (automatic)          42.30       1840.75   \n",
       "4                 Yes           Electronic check          70.70        151.65   \n",
       "...               ...                        ...            ...           ...   \n",
       "7038              Yes               Mailed check          84.80        1990.5   \n",
       "7039              Yes    Credit card (automatic)         103.20        7362.9   \n",
       "7040              Yes           Electronic check          29.60        346.45   \n",
       "7041              Yes               Mailed check          74.40         306.6   \n",
       "7042              Yes  Bank transfer (automatic)         105.65        6844.5   \n",
       "\n",
       "     Churn  \n",
       "0       No  \n",
       "1       No  \n",
       "2      Yes  \n",
       "3       No  \n",
       "4      Yes  \n",
       "...    ...  \n",
       "7038    No  \n",
       "7039    No  \n",
       "7040    No  \n",
       "7041   Yes  \n",
       "7042    No  \n",
       "\n",
       "[7043 rows x 21 columns]>"
      ]
     },
     "execution_count": 94,
     "metadata": {},
     "output_type": "execute_result"
    }
   ],
   "source": [
    "dfchurn.skew"
   ]
  },
  {
   "cell_type": "code",
   "execution_count": 95,
   "id": "1f059684",
   "metadata": {},
   "outputs": [
    {
     "data": {
      "text/plain": [
       "SeniorCitizen     1.833633\n",
       "tenure            0.239540\n",
       "MonthlyCharges   -0.220524\n",
       "dtype: float64"
      ]
     },
     "execution_count": 95,
     "metadata": {},
     "output_type": "execute_result"
    }
   ],
   "source": [
    "# skewness along the index axis\n",
    "dfchurn.skew()"
   ]
  },
  {
   "cell_type": "code",
   "execution_count": 96,
   "id": "fbbcffa5",
   "metadata": {},
   "outputs": [],
   "source": [
    "from scipy.stats import skew\n",
    "import seaborn as sns"
   ]
  },
  {
   "cell_type": "code",
   "execution_count": 185,
   "id": "1d00f532",
   "metadata": {},
   "outputs": [],
   "source": [
    "dfchurn2 = pd.DataFrame(dfchurn)\n",
    "# Remove the mentioned columns name\n",
    "dfchurn2.drop(['customerID','gender','Partner','Dependents','PhoneService','MultipleLines','InternetService','OnlineSecurity','DeviceProtection','TechSupport','StreamingTV','StreamingMovies','Contract','PaperlessBilling','PaymentMethod','OnlineBackup','Churn','TotalCharges'],inplace=True, axis = 1)"
   ]
  },
  {
   "cell_type": "code",
   "execution_count": 186,
   "id": "ba9c3884",
   "metadata": {},
   "outputs": [
    {
     "data": {
      "text/html": [
       "<div>\n",
       "<style scoped>\n",
       "    .dataframe tbody tr th:only-of-type {\n",
       "        vertical-align: middle;\n",
       "    }\n",
       "\n",
       "    .dataframe tbody tr th {\n",
       "        vertical-align: top;\n",
       "    }\n",
       "\n",
       "    .dataframe thead th {\n",
       "        text-align: right;\n",
       "    }\n",
       "</style>\n",
       "<table border=\"1\" class=\"dataframe\">\n",
       "  <thead>\n",
       "    <tr style=\"text-align: right;\">\n",
       "      <th></th>\n",
       "      <th>SeniorCitizen</th>\n",
       "      <th>tenure</th>\n",
       "      <th>MonthlyCharges</th>\n",
       "    </tr>\n",
       "  </thead>\n",
       "  <tbody>\n",
       "    <tr>\n",
       "      <th>0</th>\n",
       "      <td>0</td>\n",
       "      <td>1</td>\n",
       "      <td>29.85</td>\n",
       "    </tr>\n",
       "    <tr>\n",
       "      <th>1</th>\n",
       "      <td>0</td>\n",
       "      <td>34</td>\n",
       "      <td>56.95</td>\n",
       "    </tr>\n",
       "    <tr>\n",
       "      <th>2</th>\n",
       "      <td>0</td>\n",
       "      <td>2</td>\n",
       "      <td>53.85</td>\n",
       "    </tr>\n",
       "    <tr>\n",
       "      <th>3</th>\n",
       "      <td>0</td>\n",
       "      <td>45</td>\n",
       "      <td>42.30</td>\n",
       "    </tr>\n",
       "    <tr>\n",
       "      <th>4</th>\n",
       "      <td>0</td>\n",
       "      <td>2</td>\n",
       "      <td>70.70</td>\n",
       "    </tr>\n",
       "    <tr>\n",
       "      <th>...</th>\n",
       "      <td>...</td>\n",
       "      <td>...</td>\n",
       "      <td>...</td>\n",
       "    </tr>\n",
       "    <tr>\n",
       "      <th>7038</th>\n",
       "      <td>0</td>\n",
       "      <td>24</td>\n",
       "      <td>84.80</td>\n",
       "    </tr>\n",
       "    <tr>\n",
       "      <th>7039</th>\n",
       "      <td>0</td>\n",
       "      <td>72</td>\n",
       "      <td>103.20</td>\n",
       "    </tr>\n",
       "    <tr>\n",
       "      <th>7040</th>\n",
       "      <td>0</td>\n",
       "      <td>11</td>\n",
       "      <td>29.60</td>\n",
       "    </tr>\n",
       "    <tr>\n",
       "      <th>7041</th>\n",
       "      <td>1</td>\n",
       "      <td>4</td>\n",
       "      <td>74.40</td>\n",
       "    </tr>\n",
       "    <tr>\n",
       "      <th>7042</th>\n",
       "      <td>0</td>\n",
       "      <td>66</td>\n",
       "      <td>105.65</td>\n",
       "    </tr>\n",
       "  </tbody>\n",
       "</table>\n",
       "<p>7043 rows × 3 columns</p>\n",
       "</div>"
      ],
      "text/plain": [
       "      SeniorCitizen  tenure  MonthlyCharges\n",
       "0                 0       1           29.85\n",
       "1                 0      34           56.95\n",
       "2                 0       2           53.85\n",
       "3                 0      45           42.30\n",
       "4                 0       2           70.70\n",
       "...             ...     ...             ...\n",
       "7038              0      24           84.80\n",
       "7039              0      72          103.20\n",
       "7040              0      11           29.60\n",
       "7041              1       4           74.40\n",
       "7042              0      66          105.65\n",
       "\n",
       "[7043 rows x 3 columns]"
      ]
     },
     "execution_count": 186,
     "metadata": {},
     "output_type": "execute_result"
    }
   ],
   "source": [
    "dfchurn2"
   ]
  },
  {
   "cell_type": "code",
   "execution_count": 187,
   "id": "68b9f51e",
   "metadata": {},
   "outputs": [
    {
     "name": "stdout",
     "output_type": "stream",
     "text": [
      "SeniorCitizen\n",
      "1.8332421986079817\n"
     ]
    },
    {
     "data": {
      "image/png": "[encoded data removed]",
      "text/plain": [
       "<Figure size 432x288 with 1 Axes>"
      ]
     },
     "metadata": {
      "needs_background": "light"
     },
     "output_type": "display_data"
    },
    {
     "name": "stdout",
     "output_type": "stream",
     "text": [
      "tenure\n",
      "0.2394887299846216\n"
     ]
    },
    {
     "data": {
      "image/png": "[encoded data removed]",
      "text/plain": [
       "<Figure size 432x288 with 1 Axes>"
      ]
     },
     "metadata": {
      "needs_background": "light"
     },
     "output_type": "display_data"
    },
    {
     "name": "stdout",
     "output_type": "stream",
     "text": [
      "MonthlyCharges\n",
      "-0.2204774644391769\n"
     ]
    },
    {
     "data": {
      "image/png": "[encoded data removed]",
      "text/plain": [
       "<Figure size 432x288 with 1 Axes>"
      ]
     },
     "metadata": {
      "needs_background": "light"
     },
     "output_type": "display_data"
    }
   ],
   "source": [
    "#Visualization to check skewness in SeniorCitizen     \n",
    "for col in dfchurn2:\n",
    "    print(col)\n",
    "    print(skew(dfchurn2[col]))\n",
    "    \n",
    "    plt.figure()\n",
    "    sns.distplot(dfchurn2[col])\n",
    "    plt.show()"
   ]
  },
  {
   "cell_type": "markdown",
   "id": "93748bbc",
   "metadata": {},
   "source": [
    "Observation - There is good amount of skewness present in \n",
    "SeniorCitizen\n",
    "1.8332421986079817\n",
    "\n",
    "tenure\n",
    "0.2394887299846216\n",
    "\n",
    "MonthlyCharges\n",
    "-0.2204774644391769\n",
    "\n",
    "We will check the corelation to further remove the skeness"
   ]
  },
  {
   "cell_type": "code",
   "execution_count": null,
   "id": "c6920332",
   "metadata": {},
   "outputs": [],
   "source": [
    "#Visualization to check skewness in Tenure     \n",
    "import seaborn as sns\n",
    "\n",
    "sns.displot(dfchurn['tenure'],kde =True)"
   ]
  },
  {
   "cell_type": "code",
   "execution_count": null,
   "id": "1ee7230d",
   "metadata": {},
   "outputs": [],
   "source": [
    "#Visualization to check skewness in Monthly Charges     \n",
    "import seaborn as sns\n",
    "\n",
    "sns.displot(dfchurn['MonthlyCharges'],kde =True)"
   ]
  },
  {
   "cell_type": "code",
   "execution_count": null,
   "id": "05f612ed",
   "metadata": {},
   "outputs": [],
   "source": []
  },
  {
   "cell_type": "markdown",
   "id": "faa5b1ab",
   "metadata": {},
   "source": [
    "Observation - There is skewness in the tenure and Monthly charges"
   ]
  },
  {
   "cell_type": "code",
   "execution_count": null,
   "id": "69b3d0a1",
   "metadata": {},
   "outputs": [],
   "source": [
    "dfchurn.skew()"
   ]
  },
  {
   "cell_type": "code",
   "execution_count": null,
   "id": "9d9be7af",
   "metadata": {},
   "outputs": [],
   "source": [
    "#Visualization using heatmap\n",
    "plt.figure(figsize=(14,14))  \n",
    "sns.heatmap(dfchurn.corr(), annot=True)\n"
   ]
  },
  {
   "cell_type": "code",
   "execution_count": null,
   "id": "bf6bf6e0",
   "metadata": {},
   "outputs": [],
   "source": [
    "# Removal of skew ness \n",
    "dfchurn2[\"tenure\"] = np.sqrt(dfchurn2[\"tenure\"])"
   ]
  },
  {
   "cell_type": "code",
   "execution_count": 100,
   "id": "6e576569",
   "metadata": {},
   "outputs": [
    {
     "data": {
      "text/plain": [
       "0.2394887299846216"
      ]
     },
     "execution_count": 100,
     "metadata": {},
     "output_type": "execute_result"
    }
   ],
   "source": [
    "# Checking the Skewness\n",
    "skew(dfchurn2['tenure'])"
   ]
  },
  {
   "cell_type": "code",
   "execution_count": 101,
   "id": "e020feb8",
   "metadata": {},
   "outputs": [
    {
     "data": {
      "text/plain": [
       "-0.48445380679672634"
      ]
     },
     "execution_count": 101,
     "metadata": {},
     "output_type": "execute_result"
    }
   ],
   "source": [
    "# Removal of skew ness \n",
    "dfchurn2[\"MonthlyCharges\"] = np.sqrt(dfchurn2[\"MonthlyCharges\"])\n",
    "skew(dfchurn2['MonthlyCharges'])"
   ]
  },
  {
   "cell_type": "markdown",
   "id": "4d918437",
   "metadata": {},
   "source": [
    "Observation - We can onserve the skewness is reduced from two features tenure and MonthlyCharges.We wont apply skewness to the negetive data as we can see in graph of Senior Citizen "
   ]
  },
  {
   "cell_type": "markdown",
   "id": "c567dad7",
   "metadata": {},
   "source": [
    "# Data Visualization"
   ]
  },
  {
   "cell_type": "code",
   "execution_count": 139,
   "id": "64d4bce4",
   "metadata": {},
   "outputs": [
    {
     "data": {
      "text/plain": [
       "<AxesSubplot:xlabel='Churn', ylabel='count'>"
      ]
     },
     "execution_count": 139,
     "metadata": {},
     "output_type": "execute_result"
    },
    {
     "data": {
      "image/png": "[encoded data removed]",
      "text/plain": [
       "<Figure size 432x288 with 1 Axes>"
      ]
     },
     "metadata": {
      "needs_background": "light"
     },
     "output_type": "display_data"
    }
   ],
   "source": [
    "sns.countplot(x='Churn',data=dfchurn,hue='gender',palette=\"rocket\")"
   ]
  },
  {
   "cell_type": "code",
   "execution_count": 140,
   "id": "5cd23a49",
   "metadata": {},
   "outputs": [
    {
     "data": {
      "text/plain": [
       "<AxesSubplot:xlabel='Churn', ylabel='count'>"
      ]
     },
     "execution_count": 140,
     "metadata": {},
     "output_type": "execute_result"
    },
    {
     "data": {
      "image/png": "[encoded data removed]",
      "text/plain": [
       "<Figure size 432x288 with 1 Axes>"
      ]
     },
     "metadata": {
      "needs_background": "light"
     },
     "output_type": "display_data"
    }
   ],
   "source": [
    "sns.countplot(x='Churn',data=dfchurn,hue='Dependents',palette=\"rocket\")"
   ]
  },
  {
   "cell_type": "code",
   "execution_count": 217,
   "id": "a8d527eb",
   "metadata": {},
   "outputs": [
    {
     "data": {
      "text/plain": [
       "<AxesSubplot:xlabel='Churn', ylabel='count'>"
      ]
     },
     "execution_count": 217,
     "metadata": {},
     "output_type": "execute_result"
    },
    {
     "data": {
      "image/png": "[encoded data removed]",
      "text/plain": [
       "<Figure size 432x288 with 1 Axes>"
      ]
     },
     "metadata": {
      "needs_background": "light"
     },
     "output_type": "display_data"
    }
   ],
   "source": [
    "sns.countplot(x='Churn',data=dfchurn,hue='MultipleLines',palette=\"rocket\")"
   ]
  },
  {
   "cell_type": "code",
   "execution_count": 218,
   "id": "b1d3fbff",
   "metadata": {},
   "outputs": [
    {
     "data": {
      "text/plain": [
       "<AxesSubplot:xlabel='Churn', ylabel='count'>"
      ]
     },
     "execution_count": 218,
     "metadata": {},
     "output_type": "execute_result"
    },
    {
     "data": {
      "image/png": "[encoded data removed]",
      "text/plain": [
       "<Figure size 432x288 with 1 Axes>"
      ]
     },
     "metadata": {
      "needs_background": "light"
     },
     "output_type": "display_data"
    }
   ],
   "source": [
    "sns.countplot(x='Churn',data=dfchurn,hue='InternetService',palette=\"rocket\")"
   ]
  },
  {
   "cell_type": "code",
   "execution_count": 219,
   "id": "470a4322",
   "metadata": {},
   "outputs": [
    {
     "data": {
      "text/plain": [
       "<AxesSubplot:xlabel='Churn', ylabel='count'>"
      ]
     },
     "execution_count": 219,
     "metadata": {},
     "output_type": "execute_result"
    },
    {
     "data": {
      "image/png": "[encoded data removed]",
      "text/plain": [
       "<Figure size 432x288 with 1 Axes>"
      ]
     },
     "metadata": {
      "needs_background": "light"
     },
     "output_type": "display_data"
    }
   ],
   "source": [
    "sns.countplot(x='Churn',data=dfchurn,hue='TechSupport',palette=\"rocket\")"
   ]
  },
  {
   "cell_type": "code",
   "execution_count": 220,
   "id": "91403262",
   "metadata": {},
   "outputs": [
    {
     "data": {
      "text/plain": [
       "<AxesSubplot:xlabel='Churn', ylabel='count'>"
      ]
     },
     "execution_count": 220,
     "metadata": {},
     "output_type": "execute_result"
    },
    {
     "data": {
      "image/png": "[encoded data removed]",
      "text/plain": [
       "<Figure size 432x288 with 1 Axes>"
      ]
     },
     "metadata": {
      "needs_background": "light"
     },
     "output_type": "display_data"
    }
   ],
   "source": [
    "sns.countplot(x='Churn',data=dfchurn,hue='PaymentMethod',palette=\"rocket\")"
   ]
  },
  {
   "cell_type": "code",
   "execution_count": 221,
   "id": "540088e2",
   "metadata": {},
   "outputs": [
    {
     "data": {
      "text/plain": [
       "<AxesSubplot:xlabel='Churn', ylabel='count'>"
      ]
     },
     "execution_count": 221,
     "metadata": {},
     "output_type": "execute_result"
    },
    {
     "data": {
      "image/png": "[encoded data removed]",
      "text/plain": [
       "<Figure size 432x288 with 1 Axes>"
      ]
     },
     "metadata": {
      "needs_background": "light"
     },
     "output_type": "display_data"
    }
   ],
   "source": [
    "sns.countplot(x='Churn',data=dfchurn,hue='Contract',palette=\"rocket\")"
   ]
  },
  {
   "cell_type": "markdown",
   "id": "2abc82d8",
   "metadata": {},
   "source": [
    "# Visualization of Numberical Data"
   ]
  },
  {
   "cell_type": "code",
   "execution_count": 222,
   "id": "d01e8ed3",
   "metadata": {},
   "outputs": [
    {
     "data": {
      "text/plain": [
       "[Text(0.5, 0, 'Tenure in Months'), Text(0, 0.5, 'Count')]"
      ]
     },
     "execution_count": 222,
     "metadata": {},
     "output_type": "execute_result"
    },
    {
     "data": {
      "image/png": "[encoded data removed]",
      "text/plain": [
       "<Figure size 432x288 with 1 Axes>"
      ]
     },
     "metadata": {
      "needs_background": "light"
     },
     "output_type": "display_data"
    }
   ],
   "source": [
    "ax = sns.histplot(x = 'tenure', hue = 'Churn', data = dfchurn, multiple='dodge')\n",
    "ax.set(xlabel=\"Tenure in Months\", ylabel = \"Count\")"
   ]
  },
  {
   "cell_type": "code",
   "execution_count": 223,
   "id": "1a8ba1e8",
   "metadata": {},
   "outputs": [
    {
     "data": {
      "text/plain": [
       "<AxesSubplot:xlabel='MonthlyCharges', ylabel='Count'>"
      ]
     },
     "execution_count": 223,
     "metadata": {},
     "output_type": "execute_result"
    },
    {
     "data": {
      "image/png": "[encoded data removed]",
      "text/plain": [
       "<Figure size 432x288 with 1 Axes>"
      ]
     },
     "metadata": {
      "needs_background": "light"
     },
     "output_type": "display_data"
    }
   ],
   "source": [
    "sns.histplot(x='MonthlyCharges',hue='Churn',data=dfchurn,multiple='dodge')"
   ]
  },
  {
   "cell_type": "markdown",
   "id": "a3749d63",
   "metadata": {},
   "source": [
    "# Scaling the Dataset"
   ]
  },
  {
   "cell_type": "code",
   "execution_count": 224,
   "id": "a3abcebf",
   "metadata": {},
   "outputs": [],
   "source": [
    "trans = StandardScaler()\n",
    "data = trans.fit_transform(dfchurn2)"
   ]
  },
  {
   "cell_type": "code",
   "execution_count": 225,
   "id": "17908bb1",
   "metadata": {},
   "outputs": [
    {
     "data": {
      "text/plain": [
       "<AxesSubplot:xlabel='MonthlyCharges', ylabel='tenure'>"
      ]
     },
     "execution_count": 225,
     "metadata": {},
     "output_type": "execute_result"
    },
    {
     "data": {
      "image/png": "[encoded data removed]",
      "text/plain": [
       "<Figure size 432x288 with 1 Axes>"
      ]
     },
     "metadata": {
      "needs_background": "light"
     },
     "output_type": "display_data"
    }
   ],
   "source": [
    "sns.regplot(x = 'MonthlyCharges',y= 'tenure',data=dfchurn)"
   ]
  },
  {
   "cell_type": "code",
   "execution_count": 226,
   "id": "113f7198",
   "metadata": {},
   "outputs": [
    {
     "data": {
      "text/plain": [
       "<AxesSubplot:xlabel='MonthlyCharges', ylabel='SeniorCitizen'>"
      ]
     },
     "execution_count": 226,
     "metadata": {},
     "output_type": "execute_result"
    },
    {
     "data": {
      "image/png": "[encoded data removed]",
      "text/plain": [
       "<Figure size 432x288 with 1 Axes>"
      ]
     },
     "metadata": {
      "needs_background": "light"
     },
     "output_type": "display_data"
    }
   ],
   "source": [
    "sns.regplot(x = 'MonthlyCharges',y= 'SeniorCitizen',data=dfchurn)"
   ]
  },
  {
   "cell_type": "code",
   "execution_count": 227,
   "id": "e2b90f46",
   "metadata": {},
   "outputs": [
    {
     "data": {
      "text/plain": [
       "<AxesSubplot:xlabel='tenure', ylabel='SeniorCitizen'>"
      ]
     },
     "execution_count": 227,
     "metadata": {},
     "output_type": "execute_result"
    },
    {
     "data": {
      "image/png": "[encoded data removed]",
      "text/plain": [
       "<Figure size 432x288 with 1 Axes>"
      ]
     },
     "metadata": {
      "needs_background": "light"
     },
     "output_type": "display_data"
    }
   ],
   "source": [
    "sns.regplot(x = 'tenure',y= 'SeniorCitizen',data=dfchurn)"
   ]
  },
  {
   "cell_type": "code",
   "execution_count": 228,
   "id": "cea54eaf",
   "metadata": {},
   "outputs": [
    {
     "data": {
      "text/plain": [
       "SeniorCitizen       int64\n",
       "tenure              int64\n",
       "MonthlyCharges    float64\n",
       "dtype: object"
      ]
     },
     "metadata": {},
     "output_type": "display_data"
    }
   ],
   "source": [
    "# displaying the datatypes\n",
    "display(dfchurn2.dtypes)\n",
    "  \n"
   ]
  },
  {
   "cell_type": "markdown",
   "id": "fbddc6b1",
   "metadata": {},
   "source": [
    "# Applying Linear Regression approach"
   ]
  },
  {
   "cell_type": "code",
   "execution_count": 229,
   "id": "e150799f",
   "metadata": {},
   "outputs": [],
   "source": [
    "features = dfchurn2.drop(\"tenure\",axis= 1)\n",
    "target = dfchurn2[\"MonthlyCharges\"]"
   ]
  },
  {
   "cell_type": "code",
   "execution_count": 230,
   "id": "63c9c51a",
   "metadata": {},
   "outputs": [],
   "source": [
    "# implementin MinMax Scalar\n",
    "from sklearn.preprocessing import MinMaxScaler\n",
    "mns =   MinMaxScaler()\n",
    "from sklearn.linear_model import LinearRegression\n",
    "lr = LinearRegression()\n",
    "from sklearn.metrics import r2_score\n",
    "from sklearn.model_selection import train_test_split"
   ]
  },
  {
   "cell_type": "code",
   "execution_count": 231,
   "id": "4cc858ef",
   "metadata": {},
   "outputs": [
    {
     "name": "stdout",
     "output_type": "stream",
     "text": [
      "At random state0  :- 1.0\n",
      "At random state0 : 1.0\n",
      "\n",
      "\n",
      "At random state1  :- 1.0\n",
      "At random state1 : 1.0\n",
      "\n",
      "\n",
      "At random state2  :- 1.0\n",
      "At random state2 : 1.0\n",
      "\n",
      "\n",
      "At random state3  :- 1.0\n",
      "At random state3 : 1.0\n",
      "\n",
      "\n",
      "At random state4  :- 1.0\n",
      "At random state4 : 1.0\n",
      "\n",
      "\n",
      "At random state5  :- 1.0\n",
      "At random state5 : 1.0\n",
      "\n",
      "\n",
      "At random state6  :- 1.0\n",
      "At random state6 : 1.0\n",
      "\n",
      "\n",
      "At random state7  :- 1.0\n",
      "At random state7 : 1.0\n",
      "\n",
      "\n",
      "At random state8  :- 1.0\n",
      "At random state8 : 1.0\n",
      "\n",
      "\n",
      "At random state9  :- 1.0\n",
      "At random state9 : 1.0\n",
      "\n",
      "\n",
      "At random state10  :- 1.0\n",
      "At random state10 : 1.0\n",
      "\n",
      "\n",
      "At random state11  :- 1.0\n",
      "At random state11 : 1.0\n",
      "\n",
      "\n",
      "At random state12  :- 1.0\n",
      "At random state12 : 1.0\n",
      "\n",
      "\n",
      "At random state13  :- 1.0\n",
      "At random state13 : 1.0\n",
      "\n",
      "\n",
      "At random state14  :- 1.0\n",
      "At random state14 : 1.0\n",
      "\n",
      "\n",
      "At random state15  :- 1.0\n",
      "At random state15 : 1.0\n",
      "\n",
      "\n",
      "At random state16  :- 1.0\n",
      "At random state16 : 1.0\n",
      "\n",
      "\n",
      "At random state17  :- 1.0\n",
      "At random state17 : 1.0\n",
      "\n",
      "\n",
      "At random state18  :- 1.0\n",
      "At random state18 : 1.0\n",
      "\n",
      "\n",
      "At random state19  :- 1.0\n",
      "At random state19 : 1.0\n",
      "\n",
      "\n",
      "At random state20  :- 1.0\n",
      "At random state20 : 1.0\n",
      "\n",
      "\n",
      "At random state21  :- 1.0\n",
      "At random state21 : 1.0\n",
      "\n",
      "\n",
      "At random state22  :- 1.0\n",
      "At random state22 : 1.0\n",
      "\n",
      "\n",
      "At random state23  :- 1.0\n",
      "At random state23 : 1.0\n",
      "\n",
      "\n",
      "At random state24  :- 1.0\n",
      "At random state24 : 1.0\n",
      "\n",
      "\n",
      "At random state25  :- 1.0\n",
      "At random state25 : 1.0\n",
      "\n",
      "\n",
      "At random state26  :- 1.0\n",
      "At random state26 : 1.0\n",
      "\n",
      "\n",
      "At random state27  :- 1.0\n",
      "At random state27 : 1.0\n",
      "\n",
      "\n",
      "At random state28  :- 1.0\n",
      "At random state28 : 1.0\n",
      "\n",
      "\n",
      "At random state29  :- 1.0\n",
      "At random state29 : 1.0\n",
      "\n",
      "\n",
      "At random state30  :- 1.0\n",
      "At random state30 : 1.0\n",
      "\n",
      "\n",
      "At random state31  :- 1.0\n",
      "At random state31 : 1.0\n",
      "\n",
      "\n",
      "At random state32  :- 1.0\n",
      "At random state32 : 1.0\n",
      "\n",
      "\n",
      "At random state33  :- 1.0\n",
      "At random state33 : 1.0\n",
      "\n",
      "\n",
      "At random state34  :- 1.0\n",
      "At random state34 : 1.0\n",
      "\n",
      "\n",
      "At random state35  :- 1.0\n",
      "At random state35 : 1.0\n",
      "\n",
      "\n",
      "At random state36  :- 1.0\n",
      "At random state36 : 1.0\n",
      "\n",
      "\n",
      "At random state37  :- 1.0\n",
      "At random state37 : 1.0\n",
      "\n",
      "\n",
      "At random state38  :- 1.0\n",
      "At random state38 : 1.0\n",
      "\n",
      "\n",
      "At random state39  :- 1.0\n",
      "At random state39 : 1.0\n",
      "\n",
      "\n",
      "At random state40  :- 1.0\n",
      "At random state40 : 1.0\n",
      "\n",
      "\n",
      "At random state41  :- 1.0\n",
      "At random state41 : 1.0\n",
      "\n",
      "\n",
      "At random state42  :- 1.0\n",
      "At random state42 : 1.0\n",
      "\n",
      "\n",
      "At random state43  :- 1.0\n",
      "At random state43 : 1.0\n",
      "\n",
      "\n",
      "At random state44  :- 1.0\n",
      "At random state44 : 1.0\n",
      "\n",
      "\n",
      "At random state45  :- 1.0\n",
      "At random state45 : 1.0\n",
      "\n",
      "\n",
      "At random state46  :- 1.0\n",
      "At random state46 : 1.0\n",
      "\n",
      "\n",
      "At random state47  :- 1.0\n",
      "At random state47 : 1.0\n",
      "\n",
      "\n",
      "At random state48  :- 1.0\n",
      "At random state48 : 1.0\n",
      "\n",
      "\n",
      "At random state49  :- 1.0\n",
      "At random state49 : 1.0\n",
      "\n",
      "\n",
      "At random state50  :- 1.0\n",
      "At random state50 : 1.0\n",
      "\n",
      "\n",
      "At random state51  :- 1.0\n",
      "At random state51 : 1.0\n",
      "\n",
      "\n",
      "At random state52  :- 1.0\n",
      "At random state52 : 1.0\n",
      "\n",
      "\n",
      "At random state53  :- 1.0\n",
      "At random state53 : 1.0\n",
      "\n",
      "\n",
      "At random state54  :- 1.0\n",
      "At random state54 : 1.0\n",
      "\n",
      "\n",
      "At random state55  :- 1.0\n",
      "At random state55 : 1.0\n",
      "\n",
      "\n",
      "At random state56  :- 1.0\n",
      "At random state56 : 1.0\n",
      "\n",
      "\n",
      "At random state57  :- 1.0\n",
      "At random state57 : 1.0\n",
      "\n",
      "\n",
      "At random state58  :- 1.0\n",
      "At random state58 : 1.0\n",
      "\n",
      "\n",
      "At random state59  :- 1.0\n",
      "At random state59 : 1.0\n",
      "\n",
      "\n",
      "At random state60  :- 1.0\n",
      "At random state60 : 1.0\n",
      "\n",
      "\n",
      "At random state61  :- 1.0\n",
      "At random state61 : 1.0\n",
      "\n",
      "\n",
      "At random state62  :- 1.0\n",
      "At random state62 : 1.0\n",
      "\n",
      "\n",
      "At random state63  :- 1.0\n",
      "At random state63 : 1.0\n",
      "\n",
      "\n",
      "At random state64  :- 1.0\n",
      "At random state64 : 1.0\n",
      "\n",
      "\n",
      "At random state65  :- 1.0\n",
      "At random state65 : 1.0\n",
      "\n",
      "\n",
      "At random state66  :- 1.0\n",
      "At random state66 : 1.0\n",
      "\n",
      "\n",
      "At random state67  :- 1.0\n",
      "At random state67 : 1.0\n",
      "\n",
      "\n",
      "At random state68  :- 1.0\n",
      "At random state68 : 1.0\n",
      "\n",
      "\n",
      "At random state69  :- 1.0\n",
      "At random state69 : 1.0\n",
      "\n",
      "\n",
      "At random state70  :- 1.0\n",
      "At random state70 : 1.0\n",
      "\n",
      "\n",
      "At random state71  :- 1.0\n",
      "At random state71 : 1.0\n",
      "\n",
      "\n",
      "At random state72  :- 1.0\n",
      "At random state72 : 1.0\n",
      "\n",
      "\n",
      "At random state73  :- 1.0\n",
      "At random state73 : 1.0\n",
      "\n",
      "\n",
      "At random state74  :- 1.0\n",
      "At random state74 : 1.0\n",
      "\n",
      "\n",
      "At random state75  :- 1.0\n",
      "At random state75 : 1.0\n",
      "\n",
      "\n",
      "At random state76  :- 1.0\n",
      "At random state76 : 1.0\n",
      "\n",
      "\n",
      "At random state77  :- 1.0\n",
      "At random state77 : 1.0\n",
      "\n",
      "\n",
      "At random state78  :- 1.0\n",
      "At random state78 : 1.0\n",
      "\n",
      "\n",
      "At random state79  :- 1.0\n",
      "At random state79 : 1.0\n",
      "\n",
      "\n",
      "At random state80  :- 1.0\n",
      "At random state80 : 1.0\n",
      "\n",
      "\n",
      "At random state81  :- 1.0\n",
      "At random state81 : 1.0\n",
      "\n",
      "\n",
      "At random state82  :- 1.0\n",
      "At random state82 : 1.0\n",
      "\n",
      "\n",
      "At random state83  :- 1.0\n",
      "At random state83 : 1.0\n",
      "\n",
      "\n",
      "At random state84  :- 1.0\n",
      "At random state84 : 1.0\n",
      "\n",
      "\n",
      "At random state85  :- 1.0\n",
      "At random state85 : 1.0\n",
      "\n",
      "\n",
      "At random state86  :- 1.0\n",
      "At random state86 : 1.0\n",
      "\n",
      "\n",
      "At random state87  :- 1.0\n",
      "At random state87 : 1.0\n",
      "\n",
      "\n",
      "At random state88  :- 1.0\n",
      "At random state88 : 1.0\n",
      "\n",
      "\n",
      "At random state89  :- 1.0\n",
      "At random state89 : 1.0\n",
      "\n",
      "\n",
      "At random state90  :- 1.0\n",
      "At random state90 : 1.0\n",
      "\n",
      "\n",
      "At random state91  :- 1.0\n",
      "At random state91 : 1.0\n",
      "\n",
      "\n",
      "At random state92  :- 1.0\n",
      "At random state92 : 1.0\n",
      "\n",
      "\n",
      "At random state93  :- 1.0\n",
      "At random state93 : 1.0\n",
      "\n",
      "\n",
      "At random state94  :- 1.0\n",
      "At random state94 : 1.0\n",
      "\n",
      "\n",
      "At random state95  :- 1.0\n",
      "At random state95 : 1.0\n",
      "\n",
      "\n",
      "At random state96  :- 1.0\n",
      "At random state96 : 1.0\n",
      "\n",
      "\n",
      "At random state97  :- 1.0\n",
      "At random state97 : 1.0\n",
      "\n",
      "\n",
      "At random state98  :- 1.0\n",
      "At random state98 : 1.0\n",
      "\n",
      "\n",
      "At random state99  :- 1.0\n",
      "At random state99 : 1.0\n",
      "\n",
      "\n"
     ]
    }
   ],
   "source": [
    "for i in range(0,100):\n",
    "        features_train,features_test,target_train,target_test=train_test_split(features,target,test_size=0.2,random_state=i)\n",
    "        lr.fit(features_train,target_train)\n",
    "        pred_train = lr.predict(features_train)\n",
    "        pred_test = lr.predict(features_test)\n",
    "        print(f\"At random state{i}  :- {r2_score(target_train,pred_train)}\")\n",
    "        print(f\"At random state{i} : {r2_score(target_test,pred_test)}\")\n",
    "        print(\"\\n\")"
   ]
  },
  {
   "cell_type": "code",
   "execution_count": 232,
   "id": "2c2abc92",
   "metadata": {},
   "outputs": [
    {
     "name": "stdout",
     "output_type": "stream",
     "text": [
      "At cross fold 9 the cv score is 1.0 and accuracy score for training is 1.0 and accuracy for testing is 1.0\n",
      "\n",
      "\n"
     ]
    }
   ],
   "source": [
    "Train_accuracy = r2_score(target_train,pred_train)\n",
    "Test_accuracy = r2_score(target_train,pred_train)\n",
    "\n",
    "from sklearn.model_selection import cross_val_score\n",
    "for j in range (2,10):\n",
    "\n",
    "    cv_score = cross_val_score(lr,features,target ,cv=j )\n",
    "    cv_mean = cv_score.mean()\n",
    "print(f\"At cross fold {j} the cv score is {cv_mean} and accuracy score for training is {Train_accuracy} and accuracy for testing is {Test_accuracy}\")\n",
    "print(\"\\n\")"
   ]
  },
  {
   "cell_type": "code",
   "execution_count": 233,
   "id": "9643faff",
   "metadata": {},
   "outputs": [
    {
     "ename": "TypeError",
     "evalue": "'str' object is not callable",
     "output_type": "error",
     "traceback": [
      "\u001b[1;31m---------------------------------------------------------------------------\u001b[0m",
      "\u001b[1;31mTypeError\u001b[0m                                 Traceback (most recent call last)",
      "\u001b[1;32m~\\AppData\\Local\\Temp/ipykernel_14260/394237160.py\u001b[0m in \u001b[0;36m<module>\u001b[1;34m\u001b[0m\n\u001b[0;32m      3\u001b[0m \u001b[0mplt\u001b[0m\u001b[1;33m.\u001b[0m\u001b[0mscatter\u001b[0m\u001b[1;33m(\u001b[0m\u001b[0mx\u001b[0m\u001b[1;33m=\u001b[0m\u001b[0mtarget_test\u001b[0m\u001b[1;33m,\u001b[0m\u001b[0my\u001b[0m\u001b[1;33m=\u001b[0m\u001b[0mpred_test\u001b[0m\u001b[1;33m,\u001b[0m\u001b[0mcolor\u001b[0m\u001b[1;33m=\u001b[0m\u001b[1;34m'b'\u001b[0m\u001b[1;33m)\u001b[0m\u001b[1;33m\u001b[0m\u001b[1;33m\u001b[0m\u001b[0m\n\u001b[0;32m      4\u001b[0m \u001b[0mplt\u001b[0m\u001b[1;33m.\u001b[0m\u001b[0mplot\u001b[0m\u001b[1;33m(\u001b[0m\u001b[0mtarget_test\u001b[0m\u001b[1;33m,\u001b[0m\u001b[0mtarget_test\u001b[0m\u001b[1;33m,\u001b[0m\u001b[0mcolor\u001b[0m\u001b[1;33m=\u001b[0m\u001b[1;34m'r'\u001b[0m\u001b[1;33m)\u001b[0m\u001b[1;33m\u001b[0m\u001b[1;33m\u001b[0m\u001b[0m\n\u001b[1;32m----> 5\u001b[1;33m \u001b[0mplt\u001b[0m\u001b[1;33m.\u001b[0m\u001b[0mxlabel\u001b[0m\u001b[1;33m(\u001b[0m\u001b[1;34m'Actual Sales'\u001b[0m \u001b[1;33m,\u001b[0m\u001b[0mfontsize\u001b[0m\u001b[1;33m=\u001b[0m\u001b[1;36m14\u001b[0m\u001b[1;33m)\u001b[0m\u001b[1;33m\u001b[0m\u001b[1;33m\u001b[0m\u001b[0m\n\u001b[0m\u001b[0;32m      6\u001b[0m \u001b[0mplt\u001b[0m\u001b[1;33m.\u001b[0m\u001b[0mylabel\u001b[0m\u001b[1;33m(\u001b[0m\u001b[1;34m'Predicted Sales'\u001b[0m \u001b[1;33m,\u001b[0m\u001b[0mfontsize\u001b[0m\u001b[1;33m=\u001b[0m\u001b[1;36m14\u001b[0m\u001b[1;33m)\u001b[0m\u001b[1;33m\u001b[0m\u001b[1;33m\u001b[0m\u001b[0m\n\u001b[0;32m      7\u001b[0m \u001b[0mplt\u001b[0m\u001b[1;33m.\u001b[0m\u001b[0mtitle\u001b[0m\u001b[1;33m(\u001b[0m\u001b[1;34m'Linear regression'\u001b[0m \u001b[1;33m,\u001b[0m\u001b[0mfontsize\u001b[0m\u001b[1;33m=\u001b[0m\u001b[1;36m18\u001b[0m\u001b[1;33m)\u001b[0m\u001b[1;33m\u001b[0m\u001b[1;33m\u001b[0m\u001b[0m\n",
      "\u001b[1;31mTypeError\u001b[0m: 'str' object is not callable"
     ]
    },
    {
     "data": {
      "image/png": "[encoded data removed]",
      "text/plain": [
       "<Figure size 576x432 with 1 Axes>"
      ]
     },
     "metadata": {
      "needs_background": "light"
     },
     "output_type": "display_data"
    }
   ],
   "source": [
    "import matplotlib.pyplot as plt\n",
    "plt.figure(figsize =(8,6))\n",
    "plt.scatter(x=target_test,y=pred_test,color='b')\n",
    "plt.plot(target_test,target_test,color='r')\n",
    "plt.xlabel('Actual Sales' ,fontsize=14)\n",
    "plt.ylabel('Predicted Sales' ,fontsize=14)\n",
    "plt.title('Linear regression' ,fontsize=18)\n",
    "plt.show()"
   ]
  },
  {
   "cell_type": "code",
   "execution_count": null,
   "id": "5372ba0a",
   "metadata": {},
   "outputs": [],
   "source": [
    "from sklearn.model_selection import GridSearchCV\n",
    "from sklearn.model_selection import cross_val_score\n",
    "import warnings\n",
    "warnings.filterwarnings('ignore')\n",
    "\n",
    "\n",
    "\n",
    "from sklearn.linear_model import Lasso\n",
    "\n",
    "parameters = {'alpha':[.0001,.001,.01,.1,1,10],\n",
    "            'random_state':list(range(0,10))}\n",
    "ls= Lasso()\n",
    "clf=GridSearchCV(ls,parameters)\n",
    "clf.fit(features_train,target_train)\n",
    "\n",
    "print(clf.best_params_)"
   ]
  },
  {
   "cell_type": "code",
   "execution_count": null,
   "id": "21a5d73b",
   "metadata": {},
   "outputs": [],
   "source": [
    "ls= Lasso(alpha=1,random_state=0)\n",
    "ls.fit(features_train,target_train)\n",
    "ls_score_training = ls.score(features_train,target_train)\n",
    "pred_ls = ls.predict(features_test)\n",
    "ls_score_training*100"
   ]
  },
  {
   "cell_type": "code",
   "execution_count": null,
   "id": "61eec6af",
   "metadata": {},
   "outputs": [],
   "source": [
    "\n",
    "lss= r2_score(target_test,pred_ls)\n",
    "lss*100"
   ]
  },
  {
   "cell_type": "code",
   "execution_count": null,
   "id": "f1769070",
   "metadata": {},
   "outputs": [],
   "source": [
    "pred_ls = ls.predict (features_test)\n",
    "cv_score = cross_val_score(ls,features,target ,cv=3)\n",
    "cv_mean = cv_score.mean()\n",
    "cv_mean *100"
   ]
  },
  {
   "cell_type": "code",
   "execution_count": null,
   "id": "8f8ce651",
   "metadata": {},
   "outputs": [],
   "source": [
    "from sklearn.model_selection import GridSearchCV\n",
    "from sklearn.ensemble import RandomForestRegressor\n",
    "\n",
    "parameters = {'criterion':['mse','mae'],'max_features':[\"auto\",\"sqrt\",\"log2\"]}\n",
    "rf=RandomForestRegressor()\n",
    "clf = GridSearchCV(rf,parameters)\n",
    "clf.fit(features_train,target_train)\n",
    "\n",
    "print (clf.best_params_)"
   ]
  },
  {
   "cell_type": "code",
   "execution_count": null,
   "id": "a5388627",
   "metadata": {},
   "outputs": [],
   "source": [
    "rf=RandomForestRegressor(criterion=\"mae\",max_features=\"auto\")\n",
    "rf.fit(features_train,target_train)\n",
    "rf.score (features_train,target_train)\n",
    "pred_decission=rf.predict(features_test)\n",
    "\n",
    "rfs = r2_score(target_test,pred_decission)\n",
    "print('R2 score ',rfs*100)\n",
    "\n",
    "rfscore = cross_val_score(rf,features,target,cv=5)\n",
    "rfc =rfscore.mean()\n",
    "print ('cross validation score',rfc*100)"
   ]
  },
  {
   "cell_type": "code",
   "execution_count": null,
   "id": "fdd7d30b",
   "metadata": {},
   "outputs": [],
   "source": [
    "import pandas as pd\n",
    "import numpy as np\n",
    "import matplotlib.pyplot as plt"
   ]
  },
  {
   "cell_type": "code",
   "execution_count": null,
   "id": "584fa7a5",
   "metadata": {},
   "outputs": [],
   "source": [
    "x= dfchurn2.iloc[:,1:3]\n",
    "x.head()"
   ]
  },
  {
   "cell_type": "code",
   "execution_count": null,
   "id": "72163b23",
   "metadata": {},
   "outputs": [],
   "source": [
    "#elbow method \n",
    "from sklearn.cluster import KMeans\n",
    "\n",
    "wcss=[]\n",
    "for i in range (1,11):\n",
    "    kmeans=KMeans(n_clusters=i,init = 'k-means++',random_state=42)\n",
    "    kmeans.fit(x)\n",
    "    wcss.append(kmeans.inertia_)\n",
    "plt.plot(range(1,11),wcss)\n",
    "plt.title('The Elbow method')\n",
    "plt.xlabel = ('Number of clusters')"
   ]
  },
  {
   "cell_type": "code",
   "execution_count": null,
   "id": "03a454b4",
   "metadata": {},
   "outputs": [],
   "source": [
    "# Fitting K means to the dataset\n",
    "kmeans = KMeans(n_clusters = 4, init ='k-means++',random_state=42)\n",
    "y_kmeans = kmeans.fit_predict(x)\n",
    "print(y_kmeans)"
   ]
  },
  {
   "cell_type": "code",
   "execution_count": null,
   "id": "b19c2b1d",
   "metadata": {},
   "outputs": [],
   "source": [
    "# It predicts the cluster number to which datapoints belong to \n",
    "test = kmeans.predict(np.asarray([[0,29.85]]))\n",
    "test[0]"
   ]
  },
  {
   "cell_type": "markdown",
   "id": "e36a7fe8",
   "metadata": {},
   "source": [
    "Observation - The model is predicting correct values ."
   ]
  },
  {
   "cell_type": "code",
   "execution_count": null,
   "id": "9209bd76",
   "metadata": {},
   "outputs": [],
   "source": [
    "# saving the model to the local drive\n",
    "import pickle\n",
    "filename = 'finalised model.pickle'\n",
    "pickle.dump(kmeans,open (filename,'wb'))"
   ]
  },
  {
   "cell_type": "code",
   "execution_count": 234,
   "id": "11063ab0",
   "metadata": {},
   "outputs": [],
   "source": [
    "\n",
    "model = open('finalised model.pickle','rb')\n",
    "forest = pickle.load(model)"
   ]
  },
  {
   "cell_type": "code",
   "execution_count": 235,
   "id": "3b585c7f",
   "metadata": {},
   "outputs": [
    {
     "ename": "NameError",
     "evalue": "name 'X_test' is not defined",
     "output_type": "error",
     "traceback": [
      "\u001b[1;31m---------------------------------------------------------------------------\u001b[0m",
      "\u001b[1;31mNameError\u001b[0m                                 Traceback (most recent call last)",
      "\u001b[1;32m~\\AppData\\Local\\Temp/ipykernel_14260/3373386096.py\u001b[0m in \u001b[0;36m<module>\u001b[1;34m\u001b[0m\n\u001b[1;32m----> 1\u001b[1;33m \u001b[0my_prediction\u001b[0m \u001b[1;33m=\u001b[0m \u001b[0mforest\u001b[0m\u001b[1;33m.\u001b[0m\u001b[0mpredict\u001b[0m\u001b[1;33m(\u001b[0m\u001b[0mX_test\u001b[0m\u001b[1;33m)\u001b[0m\u001b[1;33m\u001b[0m\u001b[1;33m\u001b[0m\u001b[0m\n\u001b[0m",
      "\u001b[1;31mNameError\u001b[0m: name 'X_test' is not defined"
     ]
    }
   ],
   "source": [
    "y_prediction = forest.predict(X_test)"
   ]
  },
  {
   "cell_type": "code",
   "execution_count": 236,
   "id": "d37170e1",
   "metadata": {},
   "outputs": [
    {
     "ename": "NameError",
     "evalue": "name 'metrics' is not defined",
     "output_type": "error",
     "traceback": [
      "\u001b[1;31m---------------------------------------------------------------------------\u001b[0m",
      "\u001b[1;31mNameError\u001b[0m                                 Traceback (most recent call last)",
      "\u001b[1;32m~\\AppData\\Local\\Temp/ipykernel_14260/2127135402.py\u001b[0m in \u001b[0;36m<module>\u001b[1;34m\u001b[0m\n\u001b[1;32m----> 1\u001b[1;33m \u001b[0mmetrics\u001b[0m\u001b[1;33m.\u001b[0m\u001b[0mr2_score\u001b[0m\u001b[1;33m(\u001b[0m\u001b[0my_test\u001b[0m\u001b[1;33m,\u001b[0m \u001b[0my_prediction\u001b[0m\u001b[1;33m)\u001b[0m\u001b[1;33m\u001b[0m\u001b[1;33m\u001b[0m\u001b[0m\n\u001b[0m",
      "\u001b[1;31mNameError\u001b[0m: name 'metrics' is not defined"
     ]
    }
   ],
   "source": [
    "metrics.r2_score(y_test, y_prediction)"
   ]
  },
  {
   "cell_type": "markdown",
   "id": "08f70b96",
   "metadata": {},
   "source": [
    "Conclusion\n",
    "\n",
    "We went through the various tasks involved in Churn prediction in this article. It is important to note that finding patterns in Exploratory Data Analysis (EDA) is as important as the final prediction itself.\n",
    "\n",
    "A Churn prediction task remains unfinished if the data patterns are not found in EDA. Most people can do the prediction part but struggle with data visualization and conveying the findings in an interesting way.\n",
    "\n",
    "This skill is not only limited to Churn prediction but will also help you in the solving of the usual data science problems."
   ]
  },
  {
   "cell_type": "code",
   "execution_count": null,
   "id": "2f39a563",
   "metadata": {},
   "outputs": [],
   "source": []
  }
 ],
 "metadata": {
  "kernelspec": {
   "display_name": "Python 3 (ipykernel)",
   "language": "python",
   "name": "python3"
  },
  "language_info": {
   "codemirror_mode": {
    "name": "ipython",
    "version": 3
   },
   "file_extension": ".py",
   "mimetype": "text/x-python",
   "name": "python",
   "nbconvert_exporter": "python",
   "pygments_lexer": "ipython3",
   "version": "3.9.7"
  }
 },
 "nbformat": 4,
 "nbformat_minor": 5
}
